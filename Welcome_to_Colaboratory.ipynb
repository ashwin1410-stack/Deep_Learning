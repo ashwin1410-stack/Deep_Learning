{
  "cells": [
    {
      "cell_type": "code",
      "source": [
        "import tensorflow as tf\n",
        "import numpy as np\n",
        "import matplotlib.pyplot as plt\n",
        "%matplotlib inline\n",
        "import pandas as pd\n",
        "from tensorflow.keras import layers,datasets,models"
      ],
      "metadata": {
        "id": "AbGsrBfKUMwv"
      },
      "execution_count": 2,
      "outputs": []
    },
    {
      "cell_type": "code",
      "source": [
        "(X_train,y_train),(X_test,y_test)=datasets.cifar10.load_data()"
      ],
      "metadata": {
        "id": "l72xqXWXUzIK",
        "outputId": "797d8f8a-8ef4-405f-b5aa-a21aff47ef73",
        "colab": {
          "base_uri": "https://localhost:8080/"
        }
      },
      "execution_count": 3,
      "outputs": [
        {
          "output_type": "stream",
          "name": "stdout",
          "text": [
            "Downloading data from https://www.cs.toronto.edu/~kriz/cifar-10-python.tar.gz\n",
            "170498071/170498071 [==============================] - 2s 0us/step\n"
          ]
        }
      ]
    },
    {
      "cell_type": "code",
      "source": [
        "X_train.shape"
      ],
      "metadata": {
        "id": "8JZEnXXIVDF0",
        "outputId": "3695d91e-2b89-4154-e73f-b4275edaf4f5",
        "colab": {
          "base_uri": "https://localhost:8080/"
        }
      },
      "execution_count": 4,
      "outputs": [
        {
          "output_type": "execute_result",
          "data": {
            "text/plain": [
              "(50000, 32, 32, 3)"
            ]
          },
          "metadata": {},
          "execution_count": 4
        }
      ]
    },
    {
      "cell_type": "code",
      "source": [
        "X_test.shape"
      ],
      "metadata": {
        "id": "OhFcMgD-VFzz",
        "outputId": "0eb5224f-39a4-4979-bca1-1ca9a052295f",
        "colab": {
          "base_uri": "https://localhost:8080/"
        }
      },
      "execution_count": 5,
      "outputs": [
        {
          "output_type": "execute_result",
          "data": {
            "text/plain": [
              "(10000, 32, 32, 3)"
            ]
          },
          "metadata": {},
          "execution_count": 5
        }
      ]
    },
    {
      "cell_type": "code",
      "source": [
        "y_train.shape"
      ],
      "metadata": {
        "id": "U5ZPWqxiVO_e",
        "outputId": "8ae87ccc-2547-4745-8d2d-3e65965d6d50",
        "colab": {
          "base_uri": "https://localhost:8080/"
        }
      },
      "execution_count": 6,
      "outputs": [
        {
          "output_type": "execute_result",
          "data": {
            "text/plain": [
              "(50000, 1)"
            ]
          },
          "metadata": {},
          "execution_count": 6
        }
      ]
    },
    {
      "cell_type": "code",
      "source": [
        "y_train[:-5]"
      ],
      "metadata": {
        "id": "JiXPA4TpVbhq",
        "outputId": "fc2fe1a9-1cec-4468-aedc-35ad2b7fffa1",
        "colab": {
          "base_uri": "https://localhost:8080/"
        }
      },
      "execution_count": 8,
      "outputs": [
        {
          "output_type": "execute_result",
          "data": {
            "text/plain": [
              "array([[6],\n",
              "       [9],\n",
              "       [9],\n",
              "       ...,\n",
              "       [0],\n",
              "       [1],\n",
              "       [0]], dtype=uint8)"
            ]
          },
          "metadata": {},
          "execution_count": 8
        }
      ]
    },
    {
      "cell_type": "markdown",
      "source": [
        "*Converting it into 2d arry to 1d arry by reshaping it*"
      ],
      "metadata": {
        "id": "XnbklJqZVkzN"
      }
    },
    {
      "cell_type": "code",
      "source": [
        "y_train=y_train.reshape(-1,)\n",
        "y_test=y_test.reshape(-1,)"
      ],
      "metadata": {
        "id": "uUdDVD4GVstv"
      },
      "execution_count": 9,
      "outputs": []
    },
    {
      "cell_type": "code",
      "source": [
        "y_train[:-5]"
      ],
      "metadata": {
        "id": "2okXVV8iV1Gm",
        "outputId": "5a1e1500-9f26-423a-8c24-a47a9323ae9b",
        "colab": {
          "base_uri": "https://localhost:8080/"
        }
      },
      "execution_count": 10,
      "outputs": [
        {
          "output_type": "execute_result",
          "data": {
            "text/plain": [
              "array([6, 9, 9, ..., 0, 1, 0], dtype=uint8)"
            ]
          },
          "metadata": {},
          "execution_count": 10
        }
      ]
    },
    {
      "cell_type": "code",
      "source": [
        "y_test[:-5]"
      ],
      "metadata": {
        "id": "-J5-4-_nV4-L",
        "outputId": "21ef6bad-6b12-49e1-edfc-dc281d84c005",
        "colab": {
          "base_uri": "https://localhost:8080/"
        }
      },
      "execution_count": 11,
      "outputs": [
        {
          "output_type": "execute_result",
          "data": {
            "text/plain": [
              "array([3, 8, 8, ..., 3, 5, 3], dtype=uint8)"
            ]
          },
          "metadata": {},
          "execution_count": 11
        }
      ]
    },
    {
      "cell_type": "code",
      "source": [
        "classes=[\"airplane\",\"automobile\",\"bird\",\"cat\",\"deer\",\"dog\",\"frog\",\"horse\",\"ship\",\"truck\"]"
      ],
      "metadata": {
        "id": "52p5r7R7WEbY"
      },
      "execution_count": 12,
      "outputs": []
    },
    {
      "cell_type": "code",
      "source": [
        "def plot_sample(X,y,index):\n",
        "   plt.figure(figsize=(15,4))\n",
        "   plt.imshow(X[index])\n",
        "   plt.xlabel(classes[y[index]])\n",
        "\n",
        "\n",
        "plot_sample(X_train,y_train,0)"
      ],
      "metadata": {
        "id": "S5yAyLLDWkcz",
        "outputId": "fd437602-e744-4361-b955-a8bb7d260928",
        "colab": {
          "base_uri": "https://localhost:8080/",
          "height": 388
        }
      },
      "execution_count": 19,
      "outputs": [
        {
          "output_type": "display_data",
          "data": {
            "text/plain": [
              "<Figure size 1500x400 with 1 Axes>"
            ],
            "image/png": "[encoded data removed]"
          },
          "metadata": {}
        }
      ]
    },
    {
      "cell_type": "code",
      "source": [
        "plot_sample(X_train,y_train,1)"
      ],
      "metadata": {
        "id": "XJORnI6DXoHb",
        "outputId": "54c5cdce-c47f-4f17-83b4-a11a76754410",
        "colab": {
          "base_uri": "https://localhost:8080/",
          "height": 388
        }
      },
      "execution_count": 20,
      "outputs": [
        {
          "output_type": "display_data",
          "data": {
            "text/plain": [
              "<Figure size 1500x400 with 1 Axes>"
            ],
            "image/png": "[encoded data removed]"
          },
          "metadata": {}
        }
      ]
    },
    {
      "cell_type": "markdown",
      "source": [
        "**Normalizing the Data because image has 3 channels (R,G,B)**\n",
        "\n",
        "*Normalize 0----->1*"
      ],
      "metadata": {
        "id": "mYlPCuIkX578"
      }
    },
    {
      "cell_type": "code",
      "source": [
        "X_train=X_train/255.0\n",
        "y_train=y_train/255.0"
      ],
      "metadata": {
        "id": "V2JHKwh4YBcV"
      },
      "execution_count": 21,
      "outputs": []
    },
    {
      "cell_type": "markdown",
      "source": [
        "**ANN Network**"
      ],
      "metadata": {
        "id": "7Y1JYpq-YkYk"
      }
    },
    {
      "cell_type": "code",
      "source": [
        "model=models.Sequential([\n",
        "    layers.Flatten(input_shape=(32,32,3)), #input layer\n",
        "    layers.Dense(3000,activation=\"relu\"),   #hiddenlayer 1\n",
        "    layers.Dense(1000,activation=\"relu\"),  #hiddenlayer 2\n",
        "    layers.Dense(100,activation=\"relu\"),  #hiddenlayer 3\n",
        "    layers.Dense(10,activation=\"softmax\")  #outputlayer\n",
        "])"
      ],
      "metadata": {
        "id": "PwO1q7XeYmer"
      },
      "execution_count": 25,
      "outputs": []
    },
    {
      "cell_type": "code",
      "source": [
        "model.compile(optimizer='SGD',\n",
        "            loss=\"sparse_categorical_crossentropy\",\n",
        "            metrics=[\"accuracy\"]\n",
        ")"
      ],
      "metadata": {
        "id": "0DsYaF3QZoC4"
      },
      "execution_count": 29,
      "outputs": []
    },
    {
      "cell_type": "code",
      "source": [
        "model.fit(X_train,y_train,epochs=5)"
      ],
      "metadata": {
        "id": "dR4ihyjNaXNn",
        "outputId": "d4dbe56c-e325-4647-c79d-2bf80d06d0cf",
        "colab": {
          "base_uri": "https://localhost:8080/"
        }
      },
      "execution_count": 30,
      "outputs": [
        {
          "output_type": "stream",
          "name": "stdout",
          "text": [
            "Epoch 1/5\n",
            "1563/1563 [==============================] - 156s 99ms/step - loss: 0.0041 - accuracy: 0.0999\n",
            "Epoch 2/5\n",
            "1563/1563 [==============================] - 184s 118ms/step - loss: 2.7586e-04 - accuracy: 0.1000\n",
            "Epoch 3/5\n",
            "1563/1563 [==============================] - 170s 109ms/step - loss: 1.7276e-04 - accuracy: 0.1000\n",
            "Epoch 4/5\n",
            "1563/1563 [==============================] - 161s 103ms/step - loss: 1.2759e-04 - accuracy: 0.1000\n",
            "Epoch 5/5\n",
            "1563/1563 [==============================] - 168s 107ms/step - loss: 1.0172e-04 - accuracy: 0.1000\n"
          ]
        },
        {
          "output_type": "execute_result",
          "data": {
            "text/plain": [
              "<keras.src.callbacks.History at 0x7d416eb65b70>"
            ]
          },
          "metadata": {},
          "execution_count": 30
        }
      ]
    },
    {
      "cell_type": "code",
      "source": [
        "from sklearn.metrics import confusion_matrix,classification_report"
      ],
      "metadata": {
        "id": "JAdno_uXbFaq"
      },
      "execution_count": 31,
      "outputs": []
    },
    {
      "cell_type": "code",
      "source": [
        "y_pred=model.predict(X_test)"
      ],
      "metadata": {
        "id": "7MuQsxvZcTRR",
        "outputId": "ba87ebc0-b68c-4f4d-9320-08a0b1cde69f",
        "colab": {
          "base_uri": "https://localhost:8080/"
        }
      },
      "execution_count": 32,
      "outputs": [
        {
          "output_type": "stream",
          "name": "stdout",
          "text": [
            "313/313 [==============================] - 9s 28ms/step\n"
          ]
        }
      ]
    },
    {
      "cell_type": "code",
      "source": [
        "y_pred_classes = [np.argmax(element) for element in y_pred]\n",
        "print(\"Classification Report: \\n\", classification_report(y_test, y_pred_classes))"
      ],
      "metadata": {
        "id": "gynmpmRYco4g",
        "outputId": "66ad33ef-ecad-42de-b3a5-5413c0b4cd58",
        "colab": {
          "base_uri": "https://localhost:8080/"
        }
      },
      "execution_count": 33,
      "outputs": [
        {
          "output_type": "stream",
          "name": "stdout",
          "text": [
            "Classification Report: \n",
            "               precision    recall  f1-score   support\n",
            "\n",
            "           0       0.10      1.00      0.18      1000\n",
            "           1       0.00      0.00      0.00      1000\n",
            "           2       0.00      0.00      0.00      1000\n",
            "           3       0.00      0.00      0.00      1000\n",
            "           4       0.00      0.00      0.00      1000\n",
            "           5       0.00      0.00      0.00      1000\n",
            "           6       0.00      0.00      0.00      1000\n",
            "           7       0.00      0.00      0.00      1000\n",
            "           8       0.00      0.00      0.00      1000\n",
            "           9       0.00      0.00      0.00      1000\n",
            "\n",
            "    accuracy                           0.10     10000\n",
            "   macro avg       0.01      0.10      0.02     10000\n",
            "weighted avg       0.01      0.10      0.02     10000\n",
            "\n"
          ]
        },
        {
          "output_type": "stream",
          "name": "stderr",
          "text": [
            "/usr/local/lib/python3.10/dist-packages/sklearn/metrics/_classification.py:1344: UndefinedMetricWarning: Precision and F-score are ill-defined and being set to 0.0 in labels with no predicted samples. Use `zero_division` parameter to control this behavior.\n",
            "  _warn_prf(average, modifier, msg_start, len(result))\n",
            "/usr/local/lib/python3.10/dist-packages/sklearn/metrics/_classification.py:1344: UndefinedMetricWarning: Precision and F-score are ill-defined and being set to 0.0 in labels with no predicted samples. Use `zero_division` parameter to control this behavior.\n",
            "  _warn_prf(average, modifier, msg_start, len(result))\n",
            "/usr/local/lib/python3.10/dist-packages/sklearn/metrics/_classification.py:1344: UndefinedMetricWarning: Precision and F-score are ill-defined and being set to 0.0 in labels with no predicted samples. Use `zero_division` parameter to control this behavior.\n",
            "  _warn_prf(average, modifier, msg_start, len(result))\n"
          ]
        }
      ]
    },
    {
      "cell_type": "markdown",
      "source": [
        "**CNN Networks**"
      ],
      "metadata": {
        "id": "HHVGT0XNd4lY"
      }
    },
    {
      "cell_type": "code",
      "source": [
        "model=models.Sequential([\n",
        "    layers.Conv2D(filters=32,kernel_size=(3,3),activation=\"relu\",input_shape=(32,32,3)),\n",
        "    layers.MaxPooling2D((2,2)),\n",
        "    layers.Conv2D(filters=64,kernel_size=(3,3),activation=\"relu\"),\n",
        "    layers.MaxPooling2D((2,2)),\n",
        "    layers.Flatten(),\n",
        "    layers.Dense(64,activation=\"relu\"),\n",
        "    layers.Dense(10,activation=\"softmax\")\n",
        "])"
      ],
      "metadata": {
        "id": "Ka4sLpS0d7Y3"
      },
      "execution_count": 35,
      "outputs": []
    },
    {
      "cell_type": "code",
      "source": [
        "model.compile(optimizer=\"adam\",\n",
        "              loss='sparse_categorical_crossentropy',\n",
        "              metrics=[\"accuracy\"])"
      ],
      "metadata": {
        "id": "Uuf5vNUGeSfa"
      },
      "execution_count": 39,
      "outputs": []
    },
    {
      "cell_type": "code",
      "source": [
        "model.fit(X_train,y_train,epochs=10)"
      ],
      "metadata": {
        "id": "69IintkTet5l",
        "outputId": "838765c4-87f0-462e-eed9-f0ea6bf05ee5",
        "colab": {
          "base_uri": "https://localhost:8080/"
        }
      },
      "execution_count": 40,
      "outputs": [
        {
          "output_type": "stream",
          "name": "stdout",
          "text": [
            "Epoch 1/10\n",
            "1563/1563 [==============================] - 101s 64ms/step - loss: 0.0033 - accuracy: 0.0999\n",
            "Epoch 2/10\n",
            "1563/1563 [==============================] - 88s 56ms/step - loss: 9.4417e-09 - accuracy: 0.1000\n",
            "Epoch 3/10\n",
            "1563/1563 [==============================] - 67s 43ms/step - loss: 7.6233e-09 - accuracy: 0.1000\n",
            "Epoch 4/10\n",
            "1563/1563 [==============================] - 65s 42ms/step - loss: 4.4413e-09 - accuracy: 0.1000\n",
            "Epoch 5/10\n",
            "1563/1563 [==============================] - 64s 41ms/step - loss: 2.2291e-09 - accuracy: 0.1000\n",
            "Epoch 6/10\n",
            "1563/1563 [==============================] - 67s 43ms/step - loss: 8.0822e-10 - accuracy: 0.1000\n",
            "Epoch 7/10\n",
            "1563/1563 [==============================] - 65s 42ms/step - loss: 3.1471e-10 - accuracy: 0.1000\n",
            "Epoch 8/10\n",
            "1563/1563 [==============================] - 64s 41ms/step - loss: 1.4543e-10 - accuracy: 0.1000\n",
            "Epoch 9/10\n",
            "1563/1563 [==============================] - 69s 44ms/step - loss: 8.8215e-11 - accuracy: 0.1000\n",
            "Epoch 10/10\n",
            "1563/1563 [==============================] - 67s 43ms/step - loss: 5.2452e-11 - accuracy: 0.1000\n"
          ]
        },
        {
          "output_type": "execute_result",
          "data": {
            "text/plain": [
              "<keras.src.callbacks.History at 0x7d41117fd0c0>"
            ]
          },
          "metadata": {},
          "execution_count": 40
        }
      ]
    },
    {
      "cell_type": "code",
      "source": [
        "model.evaluate(X_test,y_test)"
      ],
      "metadata": {
        "id": "eSVw4pcEe2oC",
        "outputId": "32345ebb-0183-49d2-e7fd-73e50aaea885",
        "colab": {
          "base_uri": "https://localhost:8080/"
        }
      },
      "execution_count": 41,
      "outputs": [
        {
          "output_type": "stream",
          "name": "stdout",
          "text": [
            "313/313 [==============================] - 4s 12ms/step - loss: 17060.9531 - accuracy: 0.1000\n"
          ]
        },
        {
          "output_type": "execute_result",
          "data": {
            "text/plain": [
              "[17060.953125, 0.10000000149011612]"
            ]
          },
          "metadata": {},
          "execution_count": 41
        }
      ]
    },
    {
      "cell_type": "code",
      "source": [
        "y_pred = model.predict(X_test)\n",
        "y_pred[:5]"
      ],
      "metadata": {
        "id": "gAADfgE6e7no",
        "outputId": "de01c334-21d7-41e1-8756-91ae4deafe0e",
        "colab": {
          "base_uri": "https://localhost:8080/"
        }
      },
      "execution_count": 42,
      "outputs": [
        {
          "output_type": "stream",
          "name": "stdout",
          "text": [
            "313/313 [==============================] - 4s 13ms/step\n"
          ]
        },
        {
          "output_type": "execute_result",
          "data": {
            "text/plain": [
              "array([[0.99999994, 0.        , 0.        , 0.        , 0.        ,\n",
              "        0.        , 0.        , 0.        , 0.        , 0.        ],\n",
              "       [0.99999994, 0.        , 0.        , 0.        , 0.        ,\n",
              "        0.        , 0.        , 0.        , 0.        , 0.        ],\n",
              "       [0.99999994, 0.        , 0.        , 0.        , 0.        ,\n",
              "        0.        , 0.        , 0.        , 0.        , 0.        ],\n",
              "       [0.99999994, 0.        , 0.        , 0.        , 0.        ,\n",
              "        0.        , 0.        , 0.        , 0.        , 0.        ],\n",
              "       [0.99999994, 0.        , 0.        , 0.        , 0.        ,\n",
              "        0.        , 0.        , 0.        , 0.        , 0.        ]],\n",
              "      dtype=float32)"
            ]
          },
          "metadata": {},
          "execution_count": 42
        }
      ]
    },
    {
      "cell_type": "code",
      "source": [
        "y_classes = [np.argmax(element) for element in y_pred]\n",
        "y_classes[:5]"
      ],
      "metadata": {
        "id": "hnIfhQYtfLEY",
        "outputId": "76f9aa6d-5278-4da0-8b46-5981f84d6c83",
        "colab": {
          "base_uri": "https://localhost:8080/"
        }
      },
      "execution_count": 43,
      "outputs": [
        {
          "output_type": "execute_result",
          "data": {
            "text/plain": [
              "[0, 0, 0, 0, 0]"
            ]
          },
          "metadata": {},
          "execution_count": 43
        }
      ]
    },
    {
      "cell_type": "code",
      "source": [
        "plot_sample(X_test,y_test,3)"
      ],
      "metadata": {
        "id": "KD0qrVwcfNx-",
        "outputId": "9df5c02a-df0d-4040-d1bb-546a3e39d48a",
        "colab": {
          "base_uri": "https://localhost:8080/",
          "height": 388
        }
      },
      "execution_count": 44,
      "outputs": [
        {
          "output_type": "display_data",
          "data": {
            "text/plain": [
              "<Figure size 1500x400 with 1 Axes>"
            ],
            "image/png": "[encoded data removed]"
          },
          "metadata": {}
        }
      ]
    },
    {
      "cell_type": "code",
      "source": [
        "classes[y_classes[3]]"
      ],
      "metadata": {
        "id": "AbhyPBRIfVZf",
        "outputId": "fb16d4e0-6852-4f05-ba6f-72e5394bca3f",
        "colab": {
          "base_uri": "https://localhost:8080/",
          "height": 36
        }
      },
      "execution_count": 45,
      "outputs": [
        {
          "output_type": "execute_result",
          "data": {
            "text/plain": [
              "'airplane'"
            ],
            "application/vnd.google.colaboratory.intrinsic+json": {
              "type": "string"
            }
          },
          "metadata": {},
          "execution_count": 45
        }
      ]
    }
  ],
  "metadata": {
    "colab": {
      "name": "Welcome to Colaboratory",
      "toc_visible": true,
      "provenance": []
    },
    "kernelspec": {
      "display_name": "Python 3",
      "name": "python3"
    }
  },
  "nbformat": 4,
  "nbformat_minor": 0
}